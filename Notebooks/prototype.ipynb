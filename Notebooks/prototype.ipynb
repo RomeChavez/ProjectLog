{
  "cells": [
    {
      "cell_type": "code",
      "execution_count": null,
      "metadata": {
        "colab": {
          "base_uri": "https://localhost:8080/"
        },
        "id": "eQktXuqxpk2r",
        "outputId": "7e2cd083-aa89-43f1-c500-798413224bc2"
      },
      "outputs": [
        {
          "ename": "",
          "evalue": "",
          "output_type": "error",
          "traceback": [
            "\u001b[1;31mRunning cells with 'Python 3.13.5' requires the ipykernel package.\n",
            "\u001b[1;31m<a href='command:jupyter.createPythonEnvAndSelectController'>Create a Python Environment</a> with the required packages.\n",
            "\u001b[1;31mOr install 'ipykernel' using the command: '/usr/local/bin/python3 -m pip install ipykernel -U --user --force-reinstall'"
          ]
        }
      ],
      "source": [
        "def project_info(): ## this function is going to get the project info and description with tasks\n",
        "  print(\"Create a New Project\")\n",
        "\n",
        "  ## this code get the basic info of the project\n",
        "\n",
        "  project_name = input(\"Enter Project Name: \")\n",
        "  description = input(\"Enter Project Description: \")\n",
        "\n",
        "  ## this code will have the user input the tasks they want done with the project\n",
        "\n",
        "  tasks = []\n",
        "  print(\"Add tasks for this project (type 'done' when finished):\")\n",
        "  while True:\n",
        "        task = input(\"Enter a task: \").strip()\n",
        "        if task.lower() == \"done\":\n",
        "            break\n",
        "        if task:\n",
        "            tasks.append({\"task\": task, \"done\": False})\n",
        "\n",
        "  ## this code will store everything in a dictionary\n",
        "\n",
        "  project = {\n",
        "    \"Project Name\": project_name,\n",
        "    \"Description\": description,\n",
        "    \"Tasks\": tasks\n",
        "  }\n",
        "\n",
        "  ## Display conformation\n",
        "\n",
        "  print(\"\\nProject Created\")\n",
        "  print(f\"Project Name: {project_name}\")\n",
        "  print(f\"Description: {description}\")\n",
        "  print(f\"Tasks: {tasks}\")\n",
        "  for i, task in enumerate(tasks, 1):\n",
        "        print(f\"  {i}. {task['task']} [ ]\")  ## [ ] is a visual indicator that the task is not done yet\n",
        "\n",
        "  return project\n",
        "\n",
        "project_info()"
      ]
    }
  ],
  "metadata": {
    "colab": {
      "provenance": []
    },
    "kernelspec": {
      "display_name": "Python 3",
      "name": "python3"
    },
    "language_info": {
      "name": "python",
      "version": "3.13.5"
    }
  },
  "nbformat": 4,
  "nbformat_minor": 0
}
